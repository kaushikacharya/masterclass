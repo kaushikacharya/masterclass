{
  "cells": [
    {
      "cell_type": "code",
      "execution_count": null,
      "metadata": {
        "colab": {
          "base_uri": "https://localhost:8080/",
          "height": 448
        },
        "id": "BWtzAAvL6DOK",
        "outputId": "87d08196-2e5f-4ca0-fc5e-3a807addff14"
      },
      "outputs": [
        {
          "name": "stdout",
          "output_type": "stream",
          "text": [
            "/bin/sh: lscpu: command not found\r\n"
          ]
        }
      ],
      "source": [
        "# Number of CPUs and Threads in Linux.\n",
        "# Refer: https://linux.die.net/man/1/lscpu\n",
        "!lscpu\n"
      ]
    },
    {
      "cell_type": "code",
      "execution_count": null,
      "metadata": {
        "id": "Hkd-fc8IDFZw",
        "outputId": "3b35bbec-d2e6-47b1-b0f4-c18af3c2453c"
      },
      "outputs": [
        {
          "name": "stdout",
          "output_type": "stream",
          "text": [
            "Hardware:\r\n",
            "\r\n",
            "    Hardware Overview:\r\n",
            "\r\n",
            "      Model Name: MacBook Pro\r\n",
            "      Model Identifier: MacBookPro15,1\r\n",
            "      Processor Name: 6-Core Intel Core i7\r\n",
            "      Processor Speed: 2.6 GHz\r\n",
            "      Number of Processors: 1\r\n",
            "      Total Number of Cores: 6\r\n",
            "      L2 Cache (per Core): 256 KB\r\n",
            "      L3 Cache: 9 MB\r\n",
            "      Hyper-Threading Technology: Enabled\r\n",
            "      Memory: 16 GB\r\n",
            "      Boot ROM Version: 1037.147.1.0.0 (iBridge: 17.16.16065.0.0,0)\r\n",
            "      Serial Number (system): C02XN307JG5J\r\n",
            "      Hardware UUID: F0006400-93A8-535A-B85D-F101341AAC16\r\n",
            "      Activation Lock Status: Enabled\r\n",
            "\r\n"
          ]
        }
      ],
      "source": [
        "# for Mac\n",
        "!system_profiler SPHardwareDataType;"
      ]
    },
    {
      "cell_type": "markdown",
      "metadata": {
        "id": "d6rvY6mU9Ngm"
      },
      "source": [
        "## Mean of 100 Million observations"
      ]
    },
    {
      "cell_type": "code",
      "execution_count": null,
      "metadata": {
        "colab": {
          "base_uri": "https://localhost:8080/"
        },
        "id": "3KofCQBP6zbT",
        "outputId": "78358bbb-3c3f-470c-a771-7477e7037117"
      },
      "outputs": [
        {
          "output_type": "stream",
          "name": "stdout",
          "text": [
            "(100000000,)\n"
          ]
        }
      ],
      "source": [
        "# Generate random 100MM data points\n",
        "import numpy as np\n",
        "n =100000000\n",
        "d = np.random.rand(n)\n",
        "print(d.shape)"
      ]
    },
    {
      "cell_type": "code",
      "execution_count": null,
      "metadata": {
        "colab": {
          "base_uri": "https://localhost:8080/",
          "height": 51
        },
        "id": "okpN0WRo9qYk",
        "outputId": "e6f38c2a-bab8-4253-9810-e7e9d93132f7"
      },
      "outputs": [
        {
          "name": "stdout",
          "output_type": "stream",
          "text": [
            "20.90457510948181\n",
            "0.49994777164597376\n"
          ]
        }
      ],
      "source": [
        "import time\n",
        "def mean():\n",
        "\n",
        "  #Sum using for loops. We can use inbuilt NumPy Sum opeartion for better speed.\n",
        "  sum = 0\n",
        "  n=d.size\n",
        "  for i in range(n):\n",
        "    sum +=d[i]\n",
        "\n",
        "  #Mean\n",
        "  mean = sum/n\n",
        "  return mean\n",
        "\n",
        "\n",
        "#Time the execution\n",
        "start_time = time.time()\n",
        "m = mean() # compute mean of 100MM numbers.\n",
        "end_time = time.time()\n",
        "print (end_time-start_time)\n",
        "print(m)"
      ]
    },
    {
      "cell_type": "markdown",
      "metadata": {
        "id": "vic-5rdM-j27"
      },
      "source": [
        "### Multi-Processing Code"
      ]
    },
    {
      "cell_type": "code",
      "execution_count": null,
      "metadata": {
        "colab": {
          "base_uri": "https://localhost:8080/",
          "height": 34
        },
        "id": "f4m9X5dw-Pvh",
        "outputId": "1e7f4eb5-2063-41b8-f475-4df24e4a0a88"
      },
      "outputs": [
        {
          "name": "stdout",
          "output_type": "stream",
          "text": [
            "11.001178979873657\n",
            "0.4999477716457993\n"
          ]
        }
      ],
      "source": [
        "#Refer: https://docs.python.org/3/library/multiprocessing.html\n",
        "from multiprocessing import Process, Queue\n",
        "import math\n",
        "\n",
        "def mean_MP(s, e, q ):\n",
        "\n",
        "  #Sum using for loops. We can use inbuilt NumPy Sum opeartion for better speed.\n",
        "  sum = 0\n",
        "  for i in range(s,e+1):\n",
        "    sum +=d[i]\n",
        "\n",
        "  #Mean\n",
        "  mean = sum/(e-s+1)\n",
        "  q.put(mean)\n",
        "  return\n",
        "\n",
        "n1 = math.floor(n/2)\n",
        "\n",
        "q = Queue() #Queues are thread and process safe. For communicating between processes and threads.\n",
        "\n",
        "p1 = Process(target=mean_MP, args=(0, n1,q ))\n",
        "p2 = Process(target=mean_MP, args=(n1+1,n-1, q))\n",
        "\n",
        "\n",
        "#Time the execution\n",
        "start_time = time.time()\n",
        "\n",
        "p1.start()\n",
        "p2.start()\n",
        "\n",
        "p1.join() # Wait till p1 finishes\n",
        "p2.join()\n",
        "\n",
        "m=0;\n",
        "while not q.empty():\n",
        "     m += q.get()\n",
        "\n",
        "m /= 2;\n",
        "\n",
        "end_time = time.time()\n",
        "print (end_time-start_time)\n",
        "print(m)\n"
      ]
    },
    {
      "cell_type": "markdown",
      "metadata": {
        "id": "_W9vahW4DFZz"
      },
      "source": [
        "### Multi-Threaded Code"
      ]
    },
    {
      "cell_type": "code",
      "execution_count": null,
      "metadata": {
        "id": "ipbV9r5YDFZz",
        "outputId": "5737f4a0-79ec-4ff9-ffb6-e9b2e2a01b5e"
      },
      "outputs": [
        {
          "name": "stdout",
          "output_type": "stream",
          "text": [
            "19.538660049438477\n",
            "0.4999477716457993\n"
          ]
        }
      ],
      "source": [
        "#Refer: https://docs.python.org/3/library/threading.html\n",
        "from threading import Thread\n",
        "\n",
        "\n",
        "means = [0,0];\n",
        "\n",
        "def mean_MT(s, e, threadNum ):\n",
        "\n",
        "  #Sum using for loops. We can use inbuilt NumPy Sum opeartion for better speed.\n",
        "  sum = 0\n",
        "  for i in range(s,e+1):\n",
        "    sum +=d[i]\n",
        "\n",
        "  #Mean\n",
        "  mean = sum/(e-s+1)\n",
        "  means[threadNum] = mean; # means is a shared varibale between the threads\n",
        "\n",
        "  return\n",
        "\n",
        "n1 = math.floor(n/2)\n",
        "\n",
        "t1 = Thread(target=mean_MT, args=(0, n1,0 ))  # Third apram is the thread number\n",
        "t2 = Thread(target=mean_MT, args=(n1+1,n-1,1))\n",
        "\n",
        "#Time the execution\n",
        "start_time = time.time()\n",
        "\n",
        "t1.start()\n",
        "t2.start()\n",
        "\n",
        "t1.join() # Wait till t1 finishes\n",
        "t2.join()\n",
        "\n",
        "m = (means[0]+means[1])/2\n",
        "\n",
        "end_time = time.time()\n",
        "print (end_time-start_time)\n",
        "print(m)\n",
        "\n"
      ]
    },
    {
      "cell_type": "markdown",
      "metadata": {
        "id": "aaOUhUxQDFZ0"
      },
      "source": [
        "## Joblib\n"
      ]
    },
    {
      "cell_type": "markdown",
      "metadata": {
        "id": "eJtKGYgZDFZ0"
      },
      "source": [
        "### Caching of function output values"
      ]
    },
    {
      "cell_type": "code",
      "execution_count": null,
      "metadata": {
        "id": "5s3HE97FDFZ0",
        "outputId": "6057ddee-2130-47f0-b9f4-1b59e33f1650",
        "colab": {
          "base_uri": "https://localhost:8080/"
        }
      },
      "outputs": [
        {
          "output_type": "stream",
          "name": "stdout",
          "text": [
            "________________________________________________________________________________\n",
            "[Memory] Calling square...\n",
            "square(array([[0., 0., 1.],\n",
            "       [1., 1., 1.],\n",
            "       [4., 2., 1.]]))\n",
            "___________________________________________________________square - 0.0s, 0.0min\n"
          ]
        },
        {
          "output_type": "stream",
          "name": "stderr",
          "text": [
            "<ipython-input-1-5aa631b74919>:8: DeprecationWarning: `np.float` is a deprecated alias for the builtin `float`. To silence this warning, use `float` by itself. Doing this will not modify any behavior and is safe. If you specifically wanted the numpy scalar type, use `np.float64` here.\n",
            "Deprecated in NumPy 1.20; for more details and guidance: https://numpy.org/devdocs/release/1.20.0-notes.html#deprecations\n",
            "  a = np.vander(np.arange(3)).astype(np.float)\n"
          ]
        }
      ],
      "source": [
        "\n",
        "#Transparent and fast disk-caching of output value\n",
        "# Refer: https://joblib.readthedocs.io/en/latest/\n",
        "from joblib import Memory\n",
        "cachedir = './'\n",
        "mem = Memory(cachedir)\n",
        "\n",
        "import numpy as np\n",
        "a = np.vander(np.arange(3)).astype(np.float)\n",
        "square = mem.cache(np.square)\n",
        "b = square(a)"
      ]
    },
    {
      "cell_type": "code",
      "execution_count": null,
      "metadata": {
        "id": "uQRx4HYNDFZ1"
      },
      "outputs": [],
      "source": [
        "c = square(a)\n",
        "# The above call did not trigger an evaluation"
      ]
    },
    {
      "cell_type": "markdown",
      "metadata": {
        "id": "Jl7OJ_ovDFZ1"
      },
      "source": [
        "### Simple Parallel programming for Loops"
      ]
    },
    {
      "cell_type": "code",
      "execution_count": null,
      "metadata": {
        "id": "sl-n_-HBDFZ1",
        "outputId": "7d2b7ae1-e35b-438a-b9f8-2db4d650cb8a"
      },
      "outputs": [
        {
          "name": "stdout",
          "output_type": "stream",
          "text": [
            "17.116321802139282\n"
          ]
        }
      ],
      "source": [
        "# Refer: https://joblib.readthedocs.io/en/latest/generated/joblib.Parallel.html\n",
        "\n",
        "import time\n",
        "from math import sqrt # inbuilt fucntion\n",
        "\n",
        "def f(i):\n",
        "\n",
        "    # some computations  that take time\n",
        "    x=10000\n",
        "    p =1;\n",
        "    for j in range(x):\n",
        "        for k in range(j):\n",
        "            p *= k\n",
        "\n",
        "    return sqrt(i ** 2);\n",
        "\n",
        "# Find f(x) of first n numbers\n",
        "n=10;\n",
        "\n",
        "start_time = time.time()\n",
        "\n",
        "for i in range(n):\n",
        "    f(i)\n",
        "\n",
        "end_time = time.time()\n",
        "print (end_time-start_time)"
      ]
    },
    {
      "cell_type": "code",
      "execution_count": null,
      "metadata": {
        "id": "add8Z3orDFZ1",
        "outputId": "49492cb1-96ad-4537-c25b-60b6e7bd6cd2"
      },
      "outputs": [
        {
          "name": "stdout",
          "output_type": "stream",
          "text": [
            "9.58085012435913\n"
          ]
        }
      ],
      "source": [
        "from joblib import Parallel, delayed\n",
        "\n",
        "start_time = time.time()\n",
        "\n",
        "a = Parallel(n_jobs=2)(delayed(f)(i) for i in range(n))\n",
        "\n",
        "# Why we need dealyed(): https://stackoverflow.com/questions/42220458/what-does-the-delayed-function-do-when-used-with-joblib-in-python\n",
        "\n",
        "end_time = time.time()\n",
        "print (end_time-start_time)"
      ]
    },
    {
      "cell_type": "code",
      "execution_count": null,
      "metadata": {
        "id": "Leg2totTDFZ2",
        "outputId": "1aa05787-94cd-42de-e32b-418ac507eb8d"
      },
      "outputs": [
        {
          "name": "stdout",
          "output_type": "stream",
          "text": [
            "17.342177867889404\n"
          ]
        }
      ],
      "source": [
        "# Multi threading\n",
        "start_time = time.time()\n",
        "\n",
        "a = Parallel(n_jobs=2,prefer=\"threads\")(delayed(f)(i ** 2) for i in range(n))\n",
        "\n",
        "end_time = time.time()\n",
        "print (end_time-start_time)"
      ]
    },
    {
      "cell_type": "code",
      "execution_count": null,
      "metadata": {
        "id": "XYviFcIRDFZ2",
        "outputId": "969d47ff-84fd-4658-a222-8577eec9e69b"
      },
      "outputs": [
        {
          "name": "stdout",
          "output_type": "stream",
          "text": [
            "4.557589054107666\n"
          ]
        }
      ],
      "source": [
        "\n",
        "# 6 jobs\n",
        "\n",
        "from joblib import Parallel, delayed\n",
        "\n",
        "start_time = time.time()\n",
        "\n",
        "a = Parallel(n_jobs=6)(delayed(f)(i ** 2) for i in range(n))\n",
        "\n",
        "# Why we need dealyed(): https://stackoverflow.com/questions/42220458/what-does-the-delayed-function-do-when-used-with-joblib-in-python\n",
        "\n",
        "end_time = time.time()\n",
        "print (end_time-start_time)"
      ]
    },
    {
      "cell_type": "markdown",
      "source": [
        "## Numba: https://numba.pydata.org/"
      ],
      "metadata": {
        "id": "Gtb0-m7KUPF2"
      }
    }
  ],
  "metadata": {
    "colab": {
      "provenance": []
    },
    "kernelspec": {
      "display_name": "Python 3",
      "language": "python",
      "name": "python3"
    },
    "language_info": {
      "codemirror_mode": {
        "name": "ipython",
        "version": 3
      },
      "file_extension": ".py",
      "mimetype": "text/x-python",
      "name": "python",
      "nbconvert_exporter": "python",
      "pygments_lexer": "ipython3",
      "version": "3.7.6"
    }
  },
  "nbformat": 4,
  "nbformat_minor": 0
}